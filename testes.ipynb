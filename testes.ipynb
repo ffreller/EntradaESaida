{
 "cells": [
  {
   "cell_type": "code",
   "execution_count": 102,
   "metadata": {},
   "outputs": [
    {
     "name": "stdout",
     "output_type": "stream",
     "text": [
      "Erro: não há entradas registradas no dia de ontem (24/04/2022). Data máxima: 2022-04-19 23:58:07\n"
     ]
    },
    {
     "ename": "AssertionError",
     "evalue": "None",
     "output_type": "error",
     "traceback": [
      "\u001b[0;31m---------------------------------------------------------------------------\u001b[0m",
      "\u001b[0;31mAssertionError\u001b[0m                            Traceback (most recent call last)",
      "\u001b[0;32m/tmp/ipykernel_20868/4110354635.py\u001b[0m in \u001b[0;36m<module>\u001b[0;34m\u001b[0m\n\u001b[1;32m     10\u001b[0m \u001b[0;34m\u001b[0m\u001b[0m\n\u001b[1;32m     11\u001b[0m \u001b[0;32massert\u001b[0m \u001b[0mdf0\u001b[0m\u001b[0;34m[\u001b[0m\u001b[0;34m'dt_entrada_unidade'\u001b[0m\u001b[0;34m]\u001b[0m\u001b[0;34m.\u001b[0m\u001b[0mmax\u001b[0m\u001b[0;34m(\u001b[0m\u001b[0;34m)\u001b[0m \u001b[0;34m>=\u001b[0m \u001b[0montem\u001b[0m\u001b[0;34m,\u001b[0m\u001b[0;31m \u001b[0m\u001b[0;31m\\\u001b[0m\u001b[0;34m\u001b[0m\u001b[0;34m\u001b[0m\u001b[0m\n\u001b[0;32m---> 12\u001b[0;31m     \u001b[0mprint\u001b[0m\u001b[0;34m(\u001b[0m\u001b[0;34mf\"Erro: não há entradas registradas no dia de ontem ({ontem.strftime('%d/%m/%Y')}). Data máxima: {df0['dt_entrada_unidade'].max()}\"\u001b[0m\u001b[0;34m)\u001b[0m\u001b[0;34m\u001b[0m\u001b[0;34m\u001b[0m\u001b[0m\n\u001b[0m\u001b[1;32m     13\u001b[0m \u001b[0;32massert\u001b[0m \u001b[0mdf0\u001b[0m\u001b[0;34m[\u001b[0m\u001b[0;34m'dt_saida_unidade'\u001b[0m\u001b[0;34m]\u001b[0m\u001b[0;34m.\u001b[0m\u001b[0mmax\u001b[0m\u001b[0;34m(\u001b[0m\u001b[0;34m)\u001b[0m \u001b[0;34m>=\u001b[0m \u001b[0montem\u001b[0m\u001b[0;34m,\u001b[0m\u001b[0;31m \u001b[0m\u001b[0;31m\\\u001b[0m\u001b[0;34m\u001b[0m\u001b[0;34m\u001b[0m\u001b[0m\n\u001b[1;32m     14\u001b[0m     \u001b[0mprint\u001b[0m\u001b[0;34m(\u001b[0m\u001b[0;34mf\"Erro: não há saídas registradas no dia de ontem ({ontem.strftime('%d/%m/%Y')}). Data máxima: {df0['dt_saida_unidade'].max()}\"\u001b[0m\u001b[0;34m)\u001b[0m\u001b[0;34m\u001b[0m\u001b[0;34m\u001b[0m\u001b[0m\n",
      "\u001b[0;31mAssertionError\u001b[0m: None"
     ]
    }
   ],
   "source": [
    "import pandas as pd\n",
    "from datetime import datetime\n",
    "from defs import print_with_time, raw_data_dir, interim_data_dir, depois_do_feriado\n",
    "from tqdm import tqdm\n",
    "\n",
    "\n",
    "\n",
    "ontem = pd.to_datetime(datetime.today().date()) - pd.Timedelta(1, 'd') + pd.Timedelta(19, 'h')\n",
    "df0 = pd.read_pickle(raw_data_dir+'/query_result.pickle')\n",
    "\n",
    "assert df0['dt_entrada_unidade'].max() >= ontem, \\\n",
    "    print(f\"Erro: não há entradas registradas no dia de ontem ({ontem.strftime('%d/%m/%Y')}). Data máxima: {df0['dt_entrada_unidade'].max()}\")\n",
    "assert df0['dt_saida_unidade'].max() >= ontem, \\\n",
    "    print(f\"Erro: não há saídas registradas no dia de ontem ({ontem.strftime('%d/%m/%Y')}). Data máxima: {df0['dt_saida_unidade'].max()}\")\n",
    "\n",
    "# Tirando pacientes eletivos\n",
    "df_ = df0.reset_index().copy()\n",
    "first = df_.sort_values('dt_entrada_unidade').groupby('nr_atendimento').first().reset_index()\n",
    "first_eletivo_idxs = first[first['ds_carater_internacao'] == 'Eletivo']['index'].unique()\n",
    "df_entrada = df_.loc[~df_['index'].isin(first_eletivo_idxs)].copy()"
   ]
  },
  {
   "cell_type": "code",
   "execution_count": null,
   "metadata": {},
   "outputs": [],
   "source": [
    "first_eletivo_idxs"
   ]
  },
  {
   "cell_type": "code",
   "execution_count": null,
   "metadata": {},
   "outputs": [],
   "source": [
    "saida_ui = pd.read_pickle(interim_data_dir+'/saida_ui_horario.pickle')"
   ]
  },
  {
   "cell_type": "code",
   "execution_count": null,
   "metadata": {},
   "outputs": [],
   "source": [
    "periodos_mapper = {\n",
    "    6: '06-12',\n",
    "    12: '12-18',\n",
    "    18: '18-24',\n",
    "    0: '00-06',\n",
    "}\n",
    "\n",
    "saida_ui['ds'].dt.hour.map(periodos_mapper)"
   ]
  },
  {
   "cell_type": "code",
   "execution_count": 113,
   "metadata": {},
   "outputs": [],
   "source": [
    "\n",
    "\n",
    "daily_prediction_to_period_prediction()"
   ]
  },
  {
   "cell_type": "code",
   "execution_count": 116,
   "metadata": {},
   "outputs": [
    {
     "name": "stdout",
     "output_type": "stream",
     "text": [
      "{'00-06': 0.1206772704, '06-12': 0.1297075423, '12-18': 0.4135454079, '18-24': 0.3360697794}\n",
      "{'00-06': 0.1234489341, '06-12': 0.1231307668, '12-18': 0.4064057694, '18-24': 0.3470145296}\n",
      "{'00-06': 0.1232444203, '06-12': 0.1243331519, '12-18': 0.4047904192, '18-24': 0.3476320087}\n",
      "{'00-06': 0.1488625782, '06-12': 0.1207928695, '12-18': 0.4171877079, '18-24': 0.3131568445}\n",
      "{'00-06': 0.1294864716, '06-12': 0.1187189398, '12-18': 0.4250414136, '18-24': 0.326753175}\n",
      "{'00-06': 0.0937010955, '06-12': 0.1550273865, '12-18': 0.4285015649, '18-24': 0.3227699531}\n",
      "{'00-06': 0.1315042573, '06-12': 0.1416272469, '12-18': 0.4092715232, '18-24': 0.3175969726}\n",
      "{'00-06': 0.0299983334, '06-12': 0.2857619021, '12-18': 0.484250875, '18-24': 0.1999888895}\n",
      "{'00-06': 0.0303687636, '06-12': 0.2843275488, '12-18': 0.4877440347, '18-24': 0.1975596529}\n",
      "{'00-06': 0.0259590024, '06-12': 0.2672250243, '12-18': 0.4962287724, '18-24': 0.210587201}\n",
      "{'00-06': 0.0344923815, '06-12': 0.3083105431, '12-18': 0.506892895, '18-24': 0.1503041804}\n",
      "{'00-06': 0.0287702622, '06-12': 0.3228379869, '12-18': 0.5417975049, '18-24': 0.1065942459}\n",
      "{'00-06': 0.0188802615, '06-12': 0.2183898651, '12-18': 0.5215365754, '18-24': 0.2411932979}\n",
      "{'00-06': 0.028487902, '06-12': 0.2502954531, '12-18': 0.4905766001, '18-24': 0.2306400448}\n",
      "{'00-06': 0.143625192, '06-12': 0.1424731183, '12-18': 0.3486943164, '18-24': 0.3652073733}\n",
      "{'00-06': 0.1434365782, '06-12': 0.1559734513, '12-18': 0.3514011799, '18-24': 0.3491887906}\n",
      "{'00-06': 0.152782966, '06-12': 0.1524094135, '12-18': 0.3492715727, '18-24': 0.3455360478}\n",
      "{'00-06': 0.1621621622, '06-12': 0.1621621622, '12-18': 0.3620763621, '18-24': 0.3135993136}\n",
      "{'00-06': 0.1647471207, '06-12': 0.1587381072, '12-18': 0.3695543315, '18-24': 0.3069604407}\n",
      "{'00-06': 0.1068070703, '06-12': 0.1504324934, '12-18': 0.3595336593, '18-24': 0.383226777}\n",
      "{'00-06': 0.1459321416, '06-12': 0.148485954, '12-18': 0.3491426487, '18-24': 0.3564392557}\n",
      "{'00-06': 0.0305156086, '06-12': 0.1178533848, '12-18': 0.5426166257, '18-24': 0.3090143809}\n",
      "{'00-06': 0.0335834227, '06-12': 0.1068238657, '12-18': 0.5466237942, '18-24': 0.3129689175}\n",
      "{'00-06': 0.039222742, '06-12': 0.0899604174, '12-18': 0.5354444045, '18-24': 0.3353724361}\n",
      "{'00-06': 0.0375395749, '06-12': 0.132066938, '12-18': 0.6662143826, '18-24': 0.1641791045}\n",
      "{'00-06': 0.0351452671, '06-12': 0.1551077788, '12-18': 0.6813495783, '18-24': 0.1283973758}\n",
      "{'00-06': 0.0213022508, '06-12': 0.1278135048, '12-18': 0.6073151125, '18-24': 0.2435691318}\n",
      "{'00-06': 0.0248756219, '06-12': 0.1154939588, '12-18': 0.5671641791, '18-24': 0.2924662402}\n"
     ]
    }
   ],
   "source": [
    "preds = read_pickle(final_data_dir+'/previsoes.pickle')\n",
    "new_preds = pd.DataFrame()\n",
    "new_preds = new_preds.append([preds]*4).sort_values(['dt_previsao','tipo','ds_classific_setor']).reset_index(drop=True)\n",
    "\n",
    "setores = ['ui', 'uti']\n",
    "tipos = ['entrada', 'saida']\n",
    "hrr_previsao_idx = list(new_preds.columns).index('hrr_previsao')\n",
    "qtd_previsao_idx = list(new_preds.columns).index('qtd_previsao')\n",
    "qtd_previsao_max_idx = list(new_preds.columns).index('qtd_previsao_max')\n",
    "qtd_previsao_min_idx = list(new_preds.columns).index('qtd_previsao_min')\n",
    "dias = new_preds['dt_previsao'].unique()\n",
    "\n",
    "for setor in setores:\n",
    "    for tipo in tipos:\n",
    "        with open(interim_data_dir+f'/weekday_info_{tipo}_{setor}.json') as weekday_file:\n",
    "            weekday_info = json.load(weekday_file)\n",
    "        \n",
    "        for dia in dias:\n",
    "            df_ = new_preds[(new_preds['tipo'] == tipo.capitalize()) &\n",
    "                            (new_preds['ds_classific_setor'] == setor.upper()) &\n",
    "                            (new_preds['dt_previsao'] == dia)].copy()\n",
    "            assert len(df_) == 4, \"Print df_ maior que 4\"\n",
    "            qtd_previsao = df_['qtd_previsao'].iloc[0]\n",
    "            qtd_previsao_max = df_['qtd_previsao_max'].iloc[0]\n",
    "            qtd_previsao_min = df_['qtd_previsao_min'].iloc[0]\n",
    "            weekday = df_.iloc[0]['dt_previsao'].weekday()\n",
    "            this_weekday_info = weekday_info[str(weekday)]\n",
    "            for i, periodo in enumerate(this_weekday_info.keys()):\n",
    "                df_.iloc[i, hrr_previsao_idx] = periodo\n",
    "                df_.iloc[i, qtd_previsao_idx] = qtd_previsao * this_weekday_info[periodo]\n",
    "                df_.iloc[i, qtd_previsao_max_idx] = qtd_previsao_max * this_weekday_info[periodo]\n",
    "                df_.iloc[i, qtd_previsao_min_idx] = qtd_previsao_min * this_weekday_info[periodo]\n",
    "                \n",
    "            new_preds.loc[df_.index] = df_"
   ]
  },
  {
   "cell_type": "code",
   "execution_count": 115,
   "metadata": {},
   "outputs": [
    {
     "name": "stdout",
     "output_type": "stream",
     "text": [
      "False False False\n"
     ]
    }
   ],
   "source": [
    "print((preds['qtd_previsao'].sum() - new_preds['qtd_previsao'].sum()) == 0,\n",
    "      (preds['qtd_previsao_max'].sum() - new_preds['qtd_previsao_max'].sum()) == 0,\n",
    "      (preds['qtd_previsao_min'].sum() - new_preds['qtd_previsao_min'].sum()) == 0)"
   ]
  },
  {
   "cell_type": "code",
   "execution_count": 126,
   "metadata": {},
   "outputs": [
    {
     "name": "stdout",
     "output_type": "stream",
     "text": [
      "-0.03500076672935393 -0.03899913281202316 -0.03100012690993026\n"
     ]
    }
   ],
   "source": [
    "print((preds['qtd_previsao'].sum() - new_preds['qtd_previsao'].sum())*10e6,\n",
    "      (preds['qtd_previsao_max'].sum() - new_preds['qtd_previsao_max'].sum())*10e6,\n",
    "      (preds['qtd_previsao_min'].sum() - new_preds['qtd_previsao_min'].sum())*10e6)"
   ]
  },
  {
   "cell_type": "code",
   "execution_count": 7,
   "metadata": {},
   "outputs": [
    {
     "data": {
      "text/plain": [
       "datetime.date(2022, 4, 25)"
      ]
     },
     "execution_count": 7,
     "metadata": {},
     "output_type": "execute_result"
    }
   ],
   "source": [
    "import pandas as pd\n",
    "from datetime import datetime\n",
    "datetime.today().date() - pd.Timedelta(1, 'd')"
   ]
  },
  {
   "cell_type": "code",
   "execution_count": 13,
   "metadata": {},
   "outputs": [
    {
     "data": {
      "text/plain": [
       "Timestamp('2022-04-27 00:00:00')"
      ]
     },
     "execution_count": 13,
     "metadata": {},
     "output_type": "execute_result"
    }
   ],
   "source": [
    "import pandas as pd\n",
    "df = pd.read_pickle('/home/ffreller/EntradaESaida/V4_Periodos/data/final/previsoes_periodos.pickle')\n",
    "df.dt_previsao.min()"
   ]
  },
  {
   "cell_type": "code",
   "execution_count": null,
   "metadata": {},
   "outputs": [],
   "source": []
  }
 ],
 "metadata": {
  "interpreter": {
   "hash": "395074aa7aef05509c295c6ea0f7e6dd564ccb72a5587dd70dbcaffedb06b2e0"
  },
  "kernelspec": {
   "display_name": "Python 3.7.11 ('DartsTimeSeries')",
   "language": "python",
   "name": "python3"
  },
  "language_info": {
   "codemirror_mode": {
    "name": "ipython",
    "version": 3
   },
   "file_extension": ".py",
   "mimetype": "text/x-python",
   "name": "python",
   "nbconvert_exporter": "python",
   "pygments_lexer": "ipython3",
   "version": "3.7.11"
  },
  "orig_nbformat": 4
 },
 "nbformat": 4,
 "nbformat_minor": 2
}
