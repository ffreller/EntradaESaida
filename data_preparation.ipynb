{
 "cells": [
  {
   "cell_type": "code",
   "execution_count": 2,
   "id": "c8fa8e3d",
   "metadata": {
    "id": "c8fa8e3d"
   },
   "outputs": [
    {
     "ename": "ImportError",
     "evalue": "cannot import name 'my_dateparser' from 'defs' (/home/ffreller/EntradaESaida/V4_Periodos/defs.py)",
     "output_type": "error",
     "traceback": [
      "\u001b[0;31m---------------------------------------------------------------------------\u001b[0m",
      "\u001b[0;31mImportError\u001b[0m                               Traceback (most recent call last)",
      "\u001b[0;32m/tmp/ipykernel_5932/3940258900.py\u001b[0m in \u001b[0;36m<module>\u001b[0;34m\u001b[0m\n\u001b[1;32m      4\u001b[0m \u001b[0;32mimport\u001b[0m \u001b[0mwarnings\u001b[0m\u001b[0;34m\u001b[0m\u001b[0;34m\u001b[0m\u001b[0m\n\u001b[1;32m      5\u001b[0m \u001b[0mwarnings\u001b[0m\u001b[0;34m.\u001b[0m\u001b[0mfilterwarnings\u001b[0m\u001b[0;34m(\u001b[0m\u001b[0;34m\"ignore\"\u001b[0m\u001b[0;34m)\u001b[0m\u001b[0;34m\u001b[0m\u001b[0;34m\u001b[0m\u001b[0m\n\u001b[0;32m----> 6\u001b[0;31m \u001b[0;32mfrom\u001b[0m \u001b[0mdefs\u001b[0m \u001b[0;32mimport\u001b[0m \u001b[0mmy_dateparser\u001b[0m\u001b[0;34m,\u001b[0m \u001b[0mdepois_do_feriado\u001b[0m\u001b[0;34m\u001b[0m\u001b[0;34m\u001b[0m\u001b[0m\n\u001b[0m",
      "\u001b[0;31mImportError\u001b[0m: cannot import name 'my_dateparser' from 'defs' (/home/ffreller/EntradaESaida/V4_Periodos/defs.py)"
     ]
    }
   ],
   "source": [
    "\n",
    "import pandas as pd\n",
    "import numpy as np\n",
    "from datetime import datetime\n",
    "import warnings\n",
    "warnings.filterwarnings(\"ignore\")\n",
    "from defs import my_dateparser, depois_do_feriado\n"
   ]
  },
  {
   "cell_type": "code",
   "execution_count": null,
   "id": "ce92f125",
   "metadata": {},
   "outputs": [],
   "source": [
    "np.random.seed(1234)"
   ]
  },
  {
   "cell_type": "markdown",
   "id": "a8-8zOzKUhw5",
   "metadata": {
    "id": "a8-8zOzKUhw5"
   },
   "source": [
    "## Pré-processamento"
   ]
  },
  {
   "cell_type": "code",
   "execution_count": 4,
   "id": "585d40c0",
   "metadata": {},
   "outputs": [
    {
     "name": "stdout",
     "output_type": "stream",
     "text": [
      "<class 'pandas.core.frame.DataFrame'>\n",
      "RangeIndex: 142084 entries, 0 to 142083\n",
      "Data columns (total 9 columns):\n",
      " #   Column                 Non-Null Count   Dtype         \n",
      "---  ------                 --------------   -----         \n",
      " 0   cd_estabelecimento     142084 non-null  int64         \n",
      " 1   nr_atendimento         142084 non-null  int64         \n",
      " 2   dt_entrada             142084 non-null  datetime64[ns]\n",
      " 3   dt_alta                141584 non-null  datetime64[ns]\n",
      " 4   ds_tipo_atendimento    142084 non-null  object        \n",
      " 5   ds_carater_internacao  141995 non-null  object        \n",
      " 6   dt_entrada_unidade     142084 non-null  datetime64[ns]\n",
      " 7   dt_saida_unidade       141810 non-null  datetime64[ns]\n",
      " 8   ds_classific_setor     142084 non-null  object        \n",
      "dtypes: datetime64[ns](4), int64(2), object(3)\n",
      "memory usage: 9.8+ MB\n"
     ]
    }
   ],
   "source": [
    "df0 = pd.read_pickle('data/raw/query_result.pickle')\n",
    "df0.info()"
   ]
  },
  {
   "cell_type": "code",
   "execution_count": 5,
   "id": "86abdc17",
   "metadata": {},
   "outputs": [],
   "source": [
    "df0['dia_entrada_unidade'] = pd.to_datetime(df0['dt_entrada_unidade'].dt.date)\n",
    "df0['dia_saida_unidade'] = pd.to_datetime(df0['dt_saida_unidade'].dt.date)"
   ]
  },
  {
   "cell_type": "code",
   "execution_count": 9,
   "id": "43ae109b",
   "metadata": {},
   "outputs": [],
   "source": [
    "uti = df0[df0.ds_classific_setor == 'UTI']"
   ]
  },
  {
   "cell_type": "code",
   "execution_count": 10,
   "id": "d9c2e66d",
   "metadata": {},
   "outputs": [
    {
     "data": {
      "text/html": [
       "<div>\n",
       "<style scoped>\n",
       "    .dataframe tbody tr th:only-of-type {\n",
       "        vertical-align: middle;\n",
       "    }\n",
       "\n",
       "    .dataframe tbody tr th {\n",
       "        vertical-align: top;\n",
       "    }\n",
       "\n",
       "    .dataframe thead th {\n",
       "        text-align: right;\n",
       "    }\n",
       "</style>\n",
       "<table border=\"1\" class=\"dataframe\">\n",
       "  <thead>\n",
       "    <tr style=\"text-align: right;\">\n",
       "      <th></th>\n",
       "      <th>nr_atendimento</th>\n",
       "    </tr>\n",
       "    <tr>\n",
       "      <th>dia_saida_unidade</th>\n",
       "      <th></th>\n",
       "    </tr>\n",
       "  </thead>\n",
       "  <tbody>\n",
       "    <tr>\n",
       "      <th>2017-01-03</th>\n",
       "      <td>4</td>\n",
       "    </tr>\n",
       "    <tr>\n",
       "      <th>2017-01-04</th>\n",
       "      <td>3</td>\n",
       "    </tr>\n",
       "    <tr>\n",
       "      <th>2017-01-05</th>\n",
       "      <td>7</td>\n",
       "    </tr>\n",
       "    <tr>\n",
       "      <th>2017-01-06</th>\n",
       "      <td>5</td>\n",
       "    </tr>\n",
       "    <tr>\n",
       "      <th>2017-01-07</th>\n",
       "      <td>6</td>\n",
       "    </tr>\n",
       "    <tr>\n",
       "      <th>...</th>\n",
       "      <td>...</td>\n",
       "    </tr>\n",
       "    <tr>\n",
       "      <th>2022-03-23</th>\n",
       "      <td>8</td>\n",
       "    </tr>\n",
       "    <tr>\n",
       "      <th>2022-03-24</th>\n",
       "      <td>22</td>\n",
       "    </tr>\n",
       "    <tr>\n",
       "      <th>2022-03-25</th>\n",
       "      <td>9</td>\n",
       "    </tr>\n",
       "    <tr>\n",
       "      <th>2022-03-26</th>\n",
       "      <td>6</td>\n",
       "    </tr>\n",
       "    <tr>\n",
       "      <th>2022-03-27</th>\n",
       "      <td>6</td>\n",
       "    </tr>\n",
       "  </tbody>\n",
       "</table>\n",
       "<p>1910 rows × 1 columns</p>\n",
       "</div>"
      ],
      "text/plain": [
       "                   nr_atendimento\n",
       "dia_saida_unidade                \n",
       "2017-01-03                      4\n",
       "2017-01-04                      3\n",
       "2017-01-05                      7\n",
       "2017-01-06                      5\n",
       "2017-01-07                      6\n",
       "...                           ...\n",
       "2022-03-23                      8\n",
       "2022-03-24                     22\n",
       "2022-03-25                      9\n",
       "2022-03-26                      6\n",
       "2022-03-27                      6\n",
       "\n",
       "[1910 rows x 1 columns]"
      ]
     },
     "execution_count": 10,
     "metadata": {},
     "output_type": "execute_result"
    }
   ],
   "source": [
    "uti[['dia_saida_unidade','nr_atendimento']].groupby('dia_saida_unidade').count()"
   ]
  },
  {
   "cell_type": "code",
   "execution_count": 52,
   "id": "25254a08",
   "metadata": {},
   "outputs": [
    {
     "data": {
      "application/vnd.jupyter.widget-view+json": {
       "model_id": "5d7b7227ba474d39bd02b64fec55c7c4",
       "version_major": 2,
       "version_minor": 0
      },
      "text/plain": [
       "  0%|          | 0/1891 [00:00<?, ?it/s]"
      ]
     },
     "metadata": {},
     "output_type": "display_data"
    }
   ],
   "source": [
    "from tqdm.notebook import tqdm\n",
    "internados_ui = []\n",
    "internados_uti = []\n",
    "days = df0['dia_entrada_unidade'].unique()\n",
    "for day in tqdm(sorted(days)):\n",
    "    df_ui = df0[(df0.dt_entrada_unidade < day) &\n",
    "                (df0.ds_classific_setor == 'Unidades de Internação') &\n",
    "                ((df0.dt_saida_unidade > day) | (df0.dt_saida_unidade.isna() == True))].drop_duplicates(subset=['nr_atendimento'])\n",
    "    df_uti = df0[(df0.dt_entrada_unidade < day) &\n",
    "                (df0.ds_classific_setor == 'UTI') &\n",
    "                ((df0.dt_saida_unidade > day) | (df0.dt_saida_unidade.isna() == True))].drop_duplicates(subset=['nr_atendimento'])\n",
    "    \n",
    "    internados_ui.append({'ds':day,'y':len(df_ui)})\n",
    "    internados_uti.append({'ds':day,'y':len(df_uti)})"
   ]
  },
  {
   "cell_type": "code",
   "execution_count": 53,
   "id": "cb347863",
   "metadata": {},
   "outputs": [
    {
     "data": {
      "text/html": [
       "<div>\n",
       "<style scoped>\n",
       "    .dataframe tbody tr th:only-of-type {\n",
       "        vertical-align: middle;\n",
       "    }\n",
       "\n",
       "    .dataframe tbody tr th {\n",
       "        vertical-align: top;\n",
       "    }\n",
       "\n",
       "    .dataframe thead th {\n",
       "        text-align: right;\n",
       "    }\n",
       "</style>\n",
       "<table border=\"1\" class=\"dataframe\">\n",
       "  <thead>\n",
       "    <tr style=\"text-align: right;\">\n",
       "      <th></th>\n",
       "      <th>ds</th>\n",
       "      <th>y</th>\n",
       "    </tr>\n",
       "  </thead>\n",
       "  <tbody>\n",
       "    <tr>\n",
       "      <th>0</th>\n",
       "      <td>2017-01-01</td>\n",
       "      <td>0</td>\n",
       "    </tr>\n",
       "    <tr>\n",
       "      <th>1</th>\n",
       "      <td>2017-01-02</td>\n",
       "      <td>15</td>\n",
       "    </tr>\n",
       "    <tr>\n",
       "      <th>2</th>\n",
       "      <td>2017-01-03</td>\n",
       "      <td>56</td>\n",
       "    </tr>\n",
       "    <tr>\n",
       "      <th>3</th>\n",
       "      <td>2017-01-04</td>\n",
       "      <td>103</td>\n",
       "    </tr>\n",
       "    <tr>\n",
       "      <th>4</th>\n",
       "      <td>2017-01-05</td>\n",
       "      <td>134</td>\n",
       "    </tr>\n",
       "    <tr>\n",
       "      <th>...</th>\n",
       "      <td>...</td>\n",
       "      <td>...</td>\n",
       "    </tr>\n",
       "    <tr>\n",
       "      <th>1886</th>\n",
       "      <td>2022-03-02</td>\n",
       "      <td>211</td>\n",
       "    </tr>\n",
       "    <tr>\n",
       "      <th>1887</th>\n",
       "      <td>2022-03-03</td>\n",
       "      <td>224</td>\n",
       "    </tr>\n",
       "    <tr>\n",
       "      <th>1888</th>\n",
       "      <td>2022-03-04</td>\n",
       "      <td>255</td>\n",
       "    </tr>\n",
       "    <tr>\n",
       "      <th>1889</th>\n",
       "      <td>2022-03-05</td>\n",
       "      <td>229</td>\n",
       "    </tr>\n",
       "    <tr>\n",
       "      <th>1890</th>\n",
       "      <td>2022-03-06</td>\n",
       "      <td>219</td>\n",
       "    </tr>\n",
       "  </tbody>\n",
       "</table>\n",
       "<p>1891 rows × 2 columns</p>\n",
       "</div>"
      ],
      "text/plain": [
       "             ds    y\n",
       "0    2017-01-01    0\n",
       "1    2017-01-02   15\n",
       "2    2017-01-03   56\n",
       "3    2017-01-04  103\n",
       "4    2017-01-05  134\n",
       "...         ...  ...\n",
       "1886 2022-03-02  211\n",
       "1887 2022-03-03  224\n",
       "1888 2022-03-04  255\n",
       "1889 2022-03-05  229\n",
       "1890 2022-03-06  219\n",
       "\n",
       "[1891 rows x 2 columns]"
      ]
     },
     "execution_count": 53,
     "metadata": {},
     "output_type": "execute_result"
    }
   ],
   "source": [
    "\n",
    "    "
   ]
  },
  {
   "cell_type": "code",
   "execution_count": 4,
   "id": "b8e4df64",
   "metadata": {},
   "outputs": [],
   "source": [
    "df['DT_ENTRADA_UNIDADE'] = df['DT_ENTRADA_UNIDADE'].apply(my_dateparser)\n",
    "df['DT_SAIDA_UNIDADE'] = df['DT_SAIDA_UNIDADE'].apply(my_dateparser)"
   ]
  },
  {
   "cell_type": "code",
   "execution_count": 5,
   "id": "66ae6a2a",
   "metadata": {},
   "outputs": [],
   "source": [
    "df['DIA_ENTRADA_UNIDADE'] = pd.to_datetime(df['DT_ENTRADA_UNIDADE'].dt.date)\n",
    "df['DIA_SAIDA_UNIDADE'] = pd.to_datetime(df['DT_SAIDA_UNIDADE'].dt.date)"
   ]
  },
  {
   "cell_type": "code",
   "execution_count": 6,
   "id": "e2e50fae",
   "metadata": {},
   "outputs": [],
   "source": [
    "df_uti = df[df['DS_CLASSIFIC_SETOR'] == 'UTI'].copy()\n",
    "df_ui = df[df['DS_CLASSIFIC_SETOR'] == 'Unidades de Internação'].copy()\n",
    "\n",
    "del df"
   ]
  },
  {
   "cell_type": "code",
   "execution_count": 7,
   "id": "f468ce9f",
   "metadata": {},
   "outputs": [],
   "source": [
    "df_entrada_uti = df_uti[['DIA_ENTRADA_UNIDADE', 'NR_ATENDIMENTO']].groupby('DIA_ENTRADA_UNIDADE').count().reset_index()\n",
    "df_saida_uti = df_uti[['DIA_SAIDA_UNIDADE', 'NR_ATENDIMENTO']].groupby('DIA_SAIDA_UNIDADE').count().reset_index()\n",
    "\n",
    "df_entrada_ui = df_ui[['DIA_ENTRADA_UNIDADE', 'NR_ATENDIMENTO']].groupby('DIA_ENTRADA_UNIDADE').count().reset_index()\n",
    "df_saida_ui = df_ui[['DIA_SAIDA_UNIDADE', 'NR_ATENDIMENTO']].groupby('DIA_SAIDA_UNIDADE').count().reset_index()\n",
    "\n",
    "del df_uti\n",
    "del df_ui"
   ]
  },
  {
   "cell_type": "code",
   "execution_count": 8,
   "id": "30363997",
   "metadata": {},
   "outputs": [],
   "source": [
    "df_entrada_uti.columns = [\"ds\", \"y\"]\n",
    "df_saida_uti.columns = [\"ds\", \"y\"]\n",
    "df_entrada_ui.columns = [\"ds\", \"y\"]\n",
    "df_saida_ui.columns = [\"ds\", \"y\"]"
   ]
  },
  {
   "cell_type": "code",
   "execution_count": 9,
   "id": "3bc39632",
   "metadata": {},
   "outputs": [],
   "source": [
    "df_entrada_uti.to_pickle('data/interim/entrada_uti.pickle')\n",
    "df_saida_uti.to_pickle('data/interim/saida_uti.pickle')\n",
    "df_entrada_ui.to_pickle('data/interim/entrada_ui.pickle')\n",
    "df_saida_ui.to_pickle('data/interim/saida_ui.pickle')"
   ]
  },
  {
   "cell_type": "code",
   "execution_count": 10,
   "id": "09094185",
   "metadata": {},
   "outputs": [],
   "source": [
    "dateparse = lambda dates: [datetime.strptime(d, '%Y-%m-%d') for d in dates]\n",
    "holidays = pd.read_csv('data/raw/holidays.csv', parse_dates=['0'], date_parser=dateparse)\n",
    "holidays.columns = ['ds']\n",
    "\n",
    "after_holidays = holidays.copy()\n",
    "after_holidays['ds'] = holidays.apply(depois_do_feriado, axis=1)\n",
    "after_holidays.dropna(inplace=True)\n",
    "after_holidays['holiday'] = 1\n",
    "after_holidays.rename(columns={'holiday':'after_holidays'}, inplace=True)"
   ]
  },
  {
   "cell_type": "code",
   "execution_count": 11,
   "id": "c7235488",
   "metadata": {},
   "outputs": [],
   "source": [
    "after_holidays = df_entrada_uti.merge(after_holidays, left_on=\"ds\", right_on=\"ds\", how=\"left\").fillna(0)[['ds', 'after_holidays']]\n",
    "after_holidays = after_holidays[after_holidays['ds'].duplicated() == False]"
   ]
  },
  {
   "cell_type": "code",
   "execution_count": 12,
   "id": "7a1e1b62",
   "metadata": {},
   "outputs": [
    {
     "data": {
      "text/html": [
       "<div>\n",
       "<style scoped>\n",
       "    .dataframe tbody tr th:only-of-type {\n",
       "        vertical-align: middle;\n",
       "    }\n",
       "\n",
       "    .dataframe tbody tr th {\n",
       "        vertical-align: top;\n",
       "    }\n",
       "\n",
       "    .dataframe thead th {\n",
       "        text-align: right;\n",
       "    }\n",
       "</style>\n",
       "<table border=\"1\" class=\"dataframe\">\n",
       "  <thead>\n",
       "    <tr style=\"text-align: right;\">\n",
       "      <th></th>\n",
       "      <th>ds</th>\n",
       "      <th>after_holidays</th>\n",
       "    </tr>\n",
       "  </thead>\n",
       "  <tbody>\n",
       "    <tr>\n",
       "      <th>0</th>\n",
       "      <td>2017-01-01</td>\n",
       "      <td>0.0</td>\n",
       "    </tr>\n",
       "    <tr>\n",
       "      <th>1</th>\n",
       "      <td>2017-01-02</td>\n",
       "      <td>0.0</td>\n",
       "    </tr>\n",
       "    <tr>\n",
       "      <th>2</th>\n",
       "      <td>2017-01-03</td>\n",
       "      <td>0.0</td>\n",
       "    </tr>\n",
       "    <tr>\n",
       "      <th>3</th>\n",
       "      <td>2017-01-04</td>\n",
       "      <td>0.0</td>\n",
       "    </tr>\n",
       "    <tr>\n",
       "      <th>4</th>\n",
       "      <td>2017-01-05</td>\n",
       "      <td>0.0</td>\n",
       "    </tr>\n",
       "    <tr>\n",
       "      <th>...</th>\n",
       "      <td>...</td>\n",
       "      <td>...</td>\n",
       "    </tr>\n",
       "    <tr>\n",
       "      <th>1882</th>\n",
       "      <td>2022-02-27</td>\n",
       "      <td>0.0</td>\n",
       "    </tr>\n",
       "    <tr>\n",
       "      <th>1883</th>\n",
       "      <td>2022-02-28</td>\n",
       "      <td>0.0</td>\n",
       "    </tr>\n",
       "    <tr>\n",
       "      <th>1884</th>\n",
       "      <td>2022-03-01</td>\n",
       "      <td>1.0</td>\n",
       "    </tr>\n",
       "    <tr>\n",
       "      <th>1885</th>\n",
       "      <td>2022-03-02</td>\n",
       "      <td>1.0</td>\n",
       "    </tr>\n",
       "    <tr>\n",
       "      <th>1886</th>\n",
       "      <td>2022-03-03</td>\n",
       "      <td>0.0</td>\n",
       "    </tr>\n",
       "  </tbody>\n",
       "</table>\n",
       "<p>1886 rows × 2 columns</p>\n",
       "</div>"
      ],
      "text/plain": [
       "             ds  after_holidays\n",
       "0    2017-01-01             0.0\n",
       "1    2017-01-02             0.0\n",
       "2    2017-01-03             0.0\n",
       "3    2017-01-04             0.0\n",
       "4    2017-01-05             0.0\n",
       "...         ...             ...\n",
       "1882 2022-02-27             0.0\n",
       "1883 2022-02-28             0.0\n",
       "1884 2022-03-01             1.0\n",
       "1885 2022-03-02             1.0\n",
       "1886 2022-03-03             0.0\n",
       "\n",
       "[1886 rows x 2 columns]"
      ]
     },
     "execution_count": 12,
     "metadata": {},
     "output_type": "execute_result"
    }
   ],
   "source": [
    "after_holidays"
   ]
  },
  {
   "cell_type": "code",
   "execution_count": 13,
   "id": "78da8b18",
   "metadata": {},
   "outputs": [],
   "source": [
    "fim_ano = df_entrada_uti.copy()\n",
    "fim_ano.loc[(fim_ano['ds'].dt.month == 12) & (fim_ano['ds'].dt.day >= 15), 'fim_ano'] = 1\n",
    "fim_ano.loc[(fim_ano['ds'].dt.month == 1) & (fim_ano['ds'].dt.day >= 10), 'fim_ano'] = 1\n",
    "fim_ano['fim_ano'].fillna(0, inplace=True)\n",
    "fim_ano.drop('y', axis=1, inplace=True)"
   ]
  },
  {
   "cell_type": "code",
   "execution_count": 14,
   "id": "c864c628",
   "metadata": {},
   "outputs": [],
   "source": [
    "fim_ano.to_pickle('data/interim/fim_ano.pickle')\n",
    "after_holidays.to_pickle('data/interim/after_holidays.pickle')"
   ]
  },
  {
   "cell_type": "code",
   "execution_count": null,
   "id": "d6bc8f80",
   "metadata": {},
   "outputs": [],
   "source": []
  }
 ],
 "metadata": {
  "colab": {
   "collapsed_sections": [
    "0d2eac0d",
    "0WhO81RqExNu",
    "f0e35153",
    "dS6V5vIQVbvj"
   ],
   "name": "TimeSeries_Final_V0.ipynb",
   "provenance": [],
   "toc_visible": true
  },
  "interpreter": {
   "hash": "a0f7fb3cbfaa02688fe79a5547a514f05eac1f2d2b2030a2df26b14dc343ea18"
  },
  "kernelspec": {
   "display_name": "DartsTimeSeries",
   "language": "python",
   "name": "python3"
  },
  "language_info": {
   "codemirror_mode": {
    "name": "ipython",
    "version": 3
   },
   "file_extension": ".py",
   "mimetype": "text/x-python",
   "name": "python",
   "nbconvert_exporter": "python",
   "pygments_lexer": "ipython3",
   "version": "3.7.11"
  }
 },
 "nbformat": 4,
 "nbformat_minor": 5
}
