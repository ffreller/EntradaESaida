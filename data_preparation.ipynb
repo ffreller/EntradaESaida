{
 "cells": [
  {
   "cell_type": "code",
   "execution_count": 6,
   "id": "c8fa8e3d",
   "metadata": {
    "id": "c8fa8e3d"
   },
   "outputs": [],
   "source": [
    "\n",
    "import pandas as pd\n",
    "import numpy as np\n",
    "from datetime import datetime\n",
    "import warnings\n",
    "warnings.filterwarnings(\"ignore\")\n",
    "from defs import my_dateparser, depois_do_feriado\n"
   ]
  },
  {
   "cell_type": "code",
   "execution_count": 2,
   "id": "ce92f125",
   "metadata": {},
   "outputs": [],
   "source": [
    "np.random.seed(1234)"
   ]
  },
  {
   "cell_type": "markdown",
   "id": "a8-8zOzKUhw5",
   "metadata": {
    "id": "a8-8zOzKUhw5"
   },
   "source": [
    "## Pré-processamento"
   ]
  },
  {
   "cell_type": "code",
   "execution_count": 32,
   "id": "585d40c0",
   "metadata": {},
   "outputs": [
    {
     "name": "stdout",
     "output_type": "stream",
     "text": [
      "<class 'pandas.core.frame.DataFrame'>\n",
      "RangeIndex: 140321 entries, 0 to 140320\n",
      "Data columns (total 9 columns):\n",
      " #   Column                 Non-Null Count   Dtype         \n",
      "---  ------                 --------------   -----         \n",
      " 0   cd_estabelecimento     140321 non-null  int64         \n",
      " 1   nr_atendimento         140321 non-null  int64         \n",
      " 2   dt_entrada             140321 non-null  datetime64[ns]\n",
      " 3   dt_alta                139831 non-null  datetime64[ns]\n",
      " 4   ds_tipo_atendimento    140321 non-null  object        \n",
      " 5   ds_carater_internacao  140249 non-null  object        \n",
      " 6   dt_entrada_unidade     140321 non-null  datetime64[ns]\n",
      " 7   dt_saida_unidade       140054 non-null  datetime64[ns]\n",
      " 8   ds_classific_setor     140321 non-null  object        \n",
      "dtypes: datetime64[ns](4), int64(2), object(3)\n",
      "memory usage: 9.6+ MB\n"
     ]
    }
   ],
   "source": [
    "df0 = pd.read_pickle('data/raw/query_result.pickle')\n",
    "df0.info()"
   ]
  },
  {
   "cell_type": "code",
   "execution_count": 35,
   "id": "86abdc17",
   "metadata": {},
   "outputs": [],
   "source": [
    "df0['dia_entrada_unidade'] = pd.to_datetime(df0['dt_entrada_unidade'].dt.date)\n",
    "df0['dia_saida_unidade'] = pd.to_datetime(df0['dt_saida_unidade'].dt.date)"
   ]
  },
  {
   "cell_type": "code",
   "execution_count": 52,
   "id": "25254a08",
   "metadata": {},
   "outputs": [
    {
     "data": {
      "application/vnd.jupyter.widget-view+json": {
       "model_id": "5d7b7227ba474d39bd02b64fec55c7c4",
       "version_major": 2,
       "version_minor": 0
      },
      "text/plain": [
       "  0%|          | 0/1891 [00:00<?, ?it/s]"
      ]
     },
     "metadata": {},
     "output_type": "display_data"
    }
   ],
   "source": [
    "from tqdm.notebook import tqdm\n",
    "internados_ui = []\n",
    "internados_uti = []\n",
    "days = df0['dia_entrada_unidade'].unique()\n",
    "for day in tqdm(sorted(days)):\n",
    "    df_ui = df0[(df0.dt_entrada_unidade < day) &\n",
    "                (df0.ds_classific_setor == 'Unidades de Internação') &\n",
    "                ((df0.dt_saida_unidade > day) | (df0.dt_saida_unidade.isna() == True))].drop_duplicates(subset=['nr_atendimento'])\n",
    "    df_uti = df0[(df0.dt_entrada_unidade < day) &\n",
    "                (df0.ds_classific_setor == 'UTI') &\n",
    "                ((df0.dt_saida_unidade > day) | (df0.dt_saida_unidade.isna() == True))].drop_duplicates(subset=['nr_atendimento'])\n",
    "    \n",
    "    internados_ui.append({'ds':day,'y':len(df_ui)})\n",
    "    internados_uti.append({'ds':day,'y':len(df_uti)})"
   ]
  },
  {
   "cell_type": "code",
   "execution_count": 53,
   "id": "cb347863",
   "metadata": {},
   "outputs": [
    {
     "data": {
      "text/html": [
       "<div>\n",
       "<style scoped>\n",
       "    .dataframe tbody tr th:only-of-type {\n",
       "        vertical-align: middle;\n",
       "    }\n",
       "\n",
       "    .dataframe tbody tr th {\n",
       "        vertical-align: top;\n",
       "    }\n",
       "\n",
       "    .dataframe thead th {\n",
       "        text-align: right;\n",
       "    }\n",
       "</style>\n",
       "<table border=\"1\" class=\"dataframe\">\n",
       "  <thead>\n",
       "    <tr style=\"text-align: right;\">\n",
       "      <th></th>\n",
       "      <th>ds</th>\n",
       "      <th>y</th>\n",
       "    </tr>\n",
       "  </thead>\n",
       "  <tbody>\n",
       "    <tr>\n",
       "      <th>0</th>\n",
       "      <td>2017-01-01</td>\n",
       "      <td>0</td>\n",
       "    </tr>\n",
       "    <tr>\n",
       "      <th>1</th>\n",
       "      <td>2017-01-02</td>\n",
       "      <td>15</td>\n",
       "    </tr>\n",
       "    <tr>\n",
       "      <th>2</th>\n",
       "      <td>2017-01-03</td>\n",
       "      <td>56</td>\n",
       "    </tr>\n",
       "    <tr>\n",
       "      <th>3</th>\n",
       "      <td>2017-01-04</td>\n",
       "      <td>103</td>\n",
       "    </tr>\n",
       "    <tr>\n",
       "      <th>4</th>\n",
       "      <td>2017-01-05</td>\n",
       "      <td>134</td>\n",
       "    </tr>\n",
       "    <tr>\n",
       "      <th>...</th>\n",
       "      <td>...</td>\n",
       "      <td>...</td>\n",
       "    </tr>\n",
       "    <tr>\n",
       "      <th>1886</th>\n",
       "      <td>2022-03-02</td>\n",
       "      <td>211</td>\n",
       "    </tr>\n",
       "    <tr>\n",
       "      <th>1887</th>\n",
       "      <td>2022-03-03</td>\n",
       "      <td>224</td>\n",
       "    </tr>\n",
       "    <tr>\n",
       "      <th>1888</th>\n",
       "      <td>2022-03-04</td>\n",
       "      <td>255</td>\n",
       "    </tr>\n",
       "    <tr>\n",
       "      <th>1889</th>\n",
       "      <td>2022-03-05</td>\n",
       "      <td>229</td>\n",
       "    </tr>\n",
       "    <tr>\n",
       "      <th>1890</th>\n",
       "      <td>2022-03-06</td>\n",
       "      <td>219</td>\n",
       "    </tr>\n",
       "  </tbody>\n",
       "</table>\n",
       "<p>1891 rows × 2 columns</p>\n",
       "</div>"
      ],
      "text/plain": [
       "             ds    y\n",
       "0    2017-01-01    0\n",
       "1    2017-01-02   15\n",
       "2    2017-01-03   56\n",
       "3    2017-01-04  103\n",
       "4    2017-01-05  134\n",
       "...         ...  ...\n",
       "1886 2022-03-02  211\n",
       "1887 2022-03-03  224\n",
       "1888 2022-03-04  255\n",
       "1889 2022-03-05  229\n",
       "1890 2022-03-06  219\n",
       "\n",
       "[1891 rows x 2 columns]"
      ]
     },
     "execution_count": 53,
     "metadata": {},
     "output_type": "execute_result"
    }
   ],
   "source": [
    "\n",
    "    "
   ]
  },
  {
   "cell_type": "code",
   "execution_count": 4,
   "id": "b8e4df64",
   "metadata": {},
   "outputs": [],
   "source": [
    "df['DT_ENTRADA_UNIDADE'] = df['DT_ENTRADA_UNIDADE'].apply(my_dateparser)\n",
    "df['DT_SAIDA_UNIDADE'] = df['DT_SAIDA_UNIDADE'].apply(my_dateparser)"
   ]
  },
  {
   "cell_type": "code",
   "execution_count": 5,
   "id": "66ae6a2a",
   "metadata": {},
   "outputs": [],
   "source": [
    "df['DIA_ENTRADA_UNIDADE'] = pd.to_datetime(df['DT_ENTRADA_UNIDADE'].dt.date)\n",
    "df['DIA_SAIDA_UNIDADE'] = pd.to_datetime(df['DT_SAIDA_UNIDADE'].dt.date)"
   ]
  },
  {
   "cell_type": "code",
   "execution_count": 6,
   "id": "e2e50fae",
   "metadata": {},
   "outputs": [],
   "source": [
    "df_uti = df[df['DS_CLASSIFIC_SETOR'] == 'UTI'].copy()\n",
    "df_ui = df[df['DS_CLASSIFIC_SETOR'] == 'Unidades de Internação'].copy()\n",
    "\n",
    "del df"
   ]
  },
  {
   "cell_type": "code",
   "execution_count": 7,
   "id": "f468ce9f",
   "metadata": {},
   "outputs": [],
   "source": [
    "df_entrada_uti = df_uti[['DIA_ENTRADA_UNIDADE', 'NR_ATENDIMENTO']].groupby('DIA_ENTRADA_UNIDADE').count().reset_index()\n",
    "df_saida_uti = df_uti[['DIA_SAIDA_UNIDADE', 'NR_ATENDIMENTO']].groupby('DIA_SAIDA_UNIDADE').count().reset_index()\n",
    "\n",
    "df_entrada_ui = df_ui[['DIA_ENTRADA_UNIDADE', 'NR_ATENDIMENTO']].groupby('DIA_ENTRADA_UNIDADE').count().reset_index()\n",
    "df_saida_ui = df_ui[['DIA_SAIDA_UNIDADE', 'NR_ATENDIMENTO']].groupby('DIA_SAIDA_UNIDADE').count().reset_index()\n",
    "\n",
    "del df_uti\n",
    "del df_ui"
   ]
  },
  {
   "cell_type": "code",
   "execution_count": 8,
   "id": "30363997",
   "metadata": {},
   "outputs": [],
   "source": [
    "df_entrada_uti.columns = [\"ds\", \"y\"]\n",
    "df_saida_uti.columns = [\"ds\", \"y\"]\n",
    "df_entrada_ui.columns = [\"ds\", \"y\"]\n",
    "df_saida_ui.columns = [\"ds\", \"y\"]"
   ]
  },
  {
   "cell_type": "code",
   "execution_count": 9,
   "id": "3bc39632",
   "metadata": {},
   "outputs": [],
   "source": [
    "df_entrada_uti.to_pickle('data/interim/entrada_uti.pickle')\n",
    "df_saida_uti.to_pickle('data/interim/saida_uti.pickle')\n",
    "df_entrada_ui.to_pickle('data/interim/entrada_ui.pickle')\n",
    "df_saida_ui.to_pickle('data/interim/saida_ui.pickle')"
   ]
  },
  {
   "cell_type": "code",
   "execution_count": 10,
   "id": "09094185",
   "metadata": {},
   "outputs": [],
   "source": [
    "dateparse = lambda dates: [datetime.strptime(d, '%Y-%m-%d') for d in dates]\n",
    "holidays = pd.read_csv('data/raw/holidays.csv', parse_dates=['0'], date_parser=dateparse)\n",
    "holidays.columns = ['ds']\n",
    "\n",
    "after_holidays = holidays.copy()\n",
    "after_holidays['ds'] = holidays.apply(depois_do_feriado, axis=1)\n",
    "after_holidays.dropna(inplace=True)\n",
    "after_holidays['holiday'] = 1\n",
    "after_holidays.rename(columns={'holiday':'after_holidays'}, inplace=True)"
   ]
  },
  {
   "cell_type": "code",
   "execution_count": 11,
   "id": "c7235488",
   "metadata": {},
   "outputs": [],
   "source": [
    "after_holidays = df_entrada_uti.merge(after_holidays, left_on=\"ds\", right_on=\"ds\", how=\"left\").fillna(0)[['ds', 'after_holidays']]\n",
    "after_holidays = after_holidays[after_holidays['ds'].duplicated() == False]"
   ]
  },
  {
   "cell_type": "code",
   "execution_count": 12,
   "id": "7a1e1b62",
   "metadata": {},
   "outputs": [
    {
     "data": {
      "text/html": [
       "<div>\n",
       "<style scoped>\n",
       "    .dataframe tbody tr th:only-of-type {\n",
       "        vertical-align: middle;\n",
       "    }\n",
       "\n",
       "    .dataframe tbody tr th {\n",
       "        vertical-align: top;\n",
       "    }\n",
       "\n",
       "    .dataframe thead th {\n",
       "        text-align: right;\n",
       "    }\n",
       "</style>\n",
       "<table border=\"1\" class=\"dataframe\">\n",
       "  <thead>\n",
       "    <tr style=\"text-align: right;\">\n",
       "      <th></th>\n",
       "      <th>ds</th>\n",
       "      <th>after_holidays</th>\n",
       "    </tr>\n",
       "  </thead>\n",
       "  <tbody>\n",
       "    <tr>\n",
       "      <th>0</th>\n",
       "      <td>2017-01-01</td>\n",
       "      <td>0.0</td>\n",
       "    </tr>\n",
       "    <tr>\n",
       "      <th>1</th>\n",
       "      <td>2017-01-02</td>\n",
       "      <td>0.0</td>\n",
       "    </tr>\n",
       "    <tr>\n",
       "      <th>2</th>\n",
       "      <td>2017-01-03</td>\n",
       "      <td>0.0</td>\n",
       "    </tr>\n",
       "    <tr>\n",
       "      <th>3</th>\n",
       "      <td>2017-01-04</td>\n",
       "      <td>0.0</td>\n",
       "    </tr>\n",
       "    <tr>\n",
       "      <th>4</th>\n",
       "      <td>2017-01-05</td>\n",
       "      <td>0.0</td>\n",
       "    </tr>\n",
       "    <tr>\n",
       "      <th>...</th>\n",
       "      <td>...</td>\n",
       "      <td>...</td>\n",
       "    </tr>\n",
       "    <tr>\n",
       "      <th>1882</th>\n",
       "      <td>2022-02-27</td>\n",
       "      <td>0.0</td>\n",
       "    </tr>\n",
       "    <tr>\n",
       "      <th>1883</th>\n",
       "      <td>2022-02-28</td>\n",
       "      <td>0.0</td>\n",
       "    </tr>\n",
       "    <tr>\n",
       "      <th>1884</th>\n",
       "      <td>2022-03-01</td>\n",
       "      <td>1.0</td>\n",
       "    </tr>\n",
       "    <tr>\n",
       "      <th>1885</th>\n",
       "      <td>2022-03-02</td>\n",
       "      <td>1.0</td>\n",
       "    </tr>\n",
       "    <tr>\n",
       "      <th>1886</th>\n",
       "      <td>2022-03-03</td>\n",
       "      <td>0.0</td>\n",
       "    </tr>\n",
       "  </tbody>\n",
       "</table>\n",
       "<p>1886 rows × 2 columns</p>\n",
       "</div>"
      ],
      "text/plain": [
       "             ds  after_holidays\n",
       "0    2017-01-01             0.0\n",
       "1    2017-01-02             0.0\n",
       "2    2017-01-03             0.0\n",
       "3    2017-01-04             0.0\n",
       "4    2017-01-05             0.0\n",
       "...         ...             ...\n",
       "1882 2022-02-27             0.0\n",
       "1883 2022-02-28             0.0\n",
       "1884 2022-03-01             1.0\n",
       "1885 2022-03-02             1.0\n",
       "1886 2022-03-03             0.0\n",
       "\n",
       "[1886 rows x 2 columns]"
      ]
     },
     "execution_count": 12,
     "metadata": {},
     "output_type": "execute_result"
    }
   ],
   "source": [
    "after_holidays"
   ]
  },
  {
   "cell_type": "code",
   "execution_count": 13,
   "id": "78da8b18",
   "metadata": {},
   "outputs": [],
   "source": [
    "fim_ano = df_entrada_uti.copy()\n",
    "fim_ano.loc[(fim_ano['ds'].dt.month == 12) & (fim_ano['ds'].dt.day >= 15), 'fim_ano'] = 1\n",
    "fim_ano.loc[(fim_ano['ds'].dt.month == 1) & (fim_ano['ds'].dt.day >= 10), 'fim_ano'] = 1\n",
    "fim_ano['fim_ano'].fillna(0, inplace=True)\n",
    "fim_ano.drop('y', axis=1, inplace=True)"
   ]
  },
  {
   "cell_type": "code",
   "execution_count": 14,
   "id": "c864c628",
   "metadata": {},
   "outputs": [],
   "source": [
    "fim_ano.to_pickle('data/interim/fim_ano.pickle')\n",
    "after_holidays.to_pickle('data/interim/after_holidays.pickle')"
   ]
  },
  {
   "cell_type": "code",
   "execution_count": null,
   "id": "d6bc8f80",
   "metadata": {},
   "outputs": [],
   "source": []
  }
 ],
 "metadata": {
  "colab": {
   "collapsed_sections": [
    "0d2eac0d",
    "0WhO81RqExNu",
    "f0e35153",
    "dS6V5vIQVbvj"
   ],
   "name": "TimeSeries_Final_V0.ipynb",
   "provenance": [],
   "toc_visible": true
  },
  "interpreter": {
   "hash": "a0f7fb3cbfaa02688fe79a5547a514f05eac1f2d2b2030a2df26b14dc343ea18"
  },
  "kernelspec": {
   "display_name": "DartsTimeSeries",
   "language": "python",
   "name": "python3"
  },
  "language_info": {
   "codemirror_mode": {
    "name": "ipython",
    "version": 3
   },
   "file_extension": ".py",
   "mimetype": "text/x-python",
   "name": "python",
   "nbconvert_exporter": "python",
   "pygments_lexer": "ipython3",
   "version": "3.7.11"
  }
 },
 "nbformat": 4,
 "nbformat_minor": 5
}
