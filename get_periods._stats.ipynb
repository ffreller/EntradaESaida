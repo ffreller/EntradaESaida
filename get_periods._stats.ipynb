{
 "cells": [
  {
   "cell_type": "code",
   "execution_count": 1,
   "metadata": {},
   "outputs": [],
   "source": [
    "from defs import print_with_time, create_db_conn, raw_data_dir, interim_data_dir, final_data_dir\n",
    "import pandas as pd\n",
    "import matplotlib.pyplot as plt"
   ]
  },
  {
   "cell_type": "code",
   "execution_count": 2,
   "metadata": {},
   "outputs": [],
   "source": [
    "entradaSaida = 'saida'\n",
    "uiUti = 'ui'\n",
    "df0 = pd.read_pickle(interim_data_dir+f'/{entradaSaida}_{uiUti}_horario.pickle')\n",
    "periodos_mapper = {\n",
    "    6: '06-12',\n",
    "    12: '12-18',\n",
    "    18: '18-24',\n",
    "    0: '00-06',\n",
    "}\n",
    "weekday_mapper = {\n",
    "    0: 'Segunda-feira',\n",
    "    1: 'Terça-feira',\n",
    "    2: 'Quarta-feira',\n",
    "    3: 'Quinta-feira',\n",
    "    4: 'Sexta-feira',\n",
    "    5: 'Sábado',\n",
    "    6: 'Domingo',\n",
    "}"
   ]
  },
  {
   "cell_type": "code",
   "execution_count": 3,
   "metadata": {},
   "outputs": [
    {
     "data": {
      "text/html": [
       "<style  type=\"text/css\" >\n",
       "</style><table id=\"T_d0d6e_\" ><thead>    <tr>        <th class=\"blank level0\" ></th>        <th class=\"col_heading level0 col0\" >00-06</th>        <th class=\"col_heading level0 col1\" >06-12</th>        <th class=\"col_heading level0 col2\" >12-18</th>        <th class=\"col_heading level0 col3\" >18-24</th>    </tr>    <tr>        <th class=\"index_name level0\" >weekday</th>        <th class=\"blank\" ></th>        <th class=\"blank\" ></th>        <th class=\"blank\" ></th>        <th class=\"blank\" ></th>    </tr></thead><tbody>\n",
       "                <tr>\n",
       "                        <th id=\"T_d0d6e_level0_row0\" class=\"row_heading level0 row0\" >Segunda-feira</th>\n",
       "                        <td id=\"T_d0d6e_row0_col0\" class=\"data row0 col0\" >1.89%</td>\n",
       "                        <td id=\"T_d0d6e_row0_col1\" class=\"data row0 col1\" >21.84%</td>\n",
       "                        <td id=\"T_d0d6e_row0_col2\" class=\"data row0 col2\" >52.15%</td>\n",
       "                        <td id=\"T_d0d6e_row0_col3\" class=\"data row0 col3\" >24.12%</td>\n",
       "            </tr>\n",
       "            <tr>\n",
       "                        <th id=\"T_d0d6e_level0_row1\" class=\"row_heading level0 row1\" >Terça-feira</th>\n",
       "                        <td id=\"T_d0d6e_row1_col0\" class=\"data row1 col0\" >2.85%</td>\n",
       "                        <td id=\"T_d0d6e_row1_col1\" class=\"data row1 col1\" >25.03%</td>\n",
       "                        <td id=\"T_d0d6e_row1_col2\" class=\"data row1 col2\" >49.06%</td>\n",
       "                        <td id=\"T_d0d6e_row1_col3\" class=\"data row1 col3\" >23.06%</td>\n",
       "            </tr>\n",
       "            <tr>\n",
       "                        <th id=\"T_d0d6e_level0_row2\" class=\"row_heading level0 row2\" >Quarta-feira</th>\n",
       "                        <td id=\"T_d0d6e_row2_col0\" class=\"data row2 col0\" >3.00%</td>\n",
       "                        <td id=\"T_d0d6e_row2_col1\" class=\"data row2 col1\" >28.58%</td>\n",
       "                        <td id=\"T_d0d6e_row2_col2\" class=\"data row2 col2\" >48.43%</td>\n",
       "                        <td id=\"T_d0d6e_row2_col3\" class=\"data row2 col3\" >20.00%</td>\n",
       "            </tr>\n",
       "            <tr>\n",
       "                        <th id=\"T_d0d6e_level0_row3\" class=\"row_heading level0 row3\" >Quinta-feira</th>\n",
       "                        <td id=\"T_d0d6e_row3_col0\" class=\"data row3 col0\" >3.04%</td>\n",
       "                        <td id=\"T_d0d6e_row3_col1\" class=\"data row3 col1\" >28.43%</td>\n",
       "                        <td id=\"T_d0d6e_row3_col2\" class=\"data row3 col2\" >48.77%</td>\n",
       "                        <td id=\"T_d0d6e_row3_col3\" class=\"data row3 col3\" >19.76%</td>\n",
       "            </tr>\n",
       "            <tr>\n",
       "                        <th id=\"T_d0d6e_level0_row4\" class=\"row_heading level0 row4\" >Sexta-feira</th>\n",
       "                        <td id=\"T_d0d6e_row4_col0\" class=\"data row4 col0\" >2.60%</td>\n",
       "                        <td id=\"T_d0d6e_row4_col1\" class=\"data row4 col1\" >26.72%</td>\n",
       "                        <td id=\"T_d0d6e_row4_col2\" class=\"data row4 col2\" >49.62%</td>\n",
       "                        <td id=\"T_d0d6e_row4_col3\" class=\"data row4 col3\" >21.06%</td>\n",
       "            </tr>\n",
       "            <tr>\n",
       "                        <th id=\"T_d0d6e_level0_row5\" class=\"row_heading level0 row5\" >Sábado</th>\n",
       "                        <td id=\"T_d0d6e_row5_col0\" class=\"data row5 col0\" >3.45%</td>\n",
       "                        <td id=\"T_d0d6e_row5_col1\" class=\"data row5 col1\" >30.83%</td>\n",
       "                        <td id=\"T_d0d6e_row5_col2\" class=\"data row5 col2\" >50.69%</td>\n",
       "                        <td id=\"T_d0d6e_row5_col3\" class=\"data row5 col3\" >15.03%</td>\n",
       "            </tr>\n",
       "            <tr>\n",
       "                        <th id=\"T_d0d6e_level0_row6\" class=\"row_heading level0 row6\" >Domingo</th>\n",
       "                        <td id=\"T_d0d6e_row6_col0\" class=\"data row6 col0\" >2.88%</td>\n",
       "                        <td id=\"T_d0d6e_row6_col1\" class=\"data row6 col1\" >32.28%</td>\n",
       "                        <td id=\"T_d0d6e_row6_col2\" class=\"data row6 col2\" >54.18%</td>\n",
       "                        <td id=\"T_d0d6e_row6_col3\" class=\"data row6 col3\" >10.66%</td>\n",
       "            </tr>\n",
       "    </tbody></table>"
      ],
      "text/plain": [
       "<pandas.io.formats.style.Styler at 0x7f2d3469af50>"
      ]
     },
     "execution_count": 3,
     "metadata": {},
     "output_type": "execute_result"
    }
   ],
   "source": [
    "df1 = df0[df0['ds'].dt.year <= 2021].copy()\n",
    "df1['weekday'] = df1['ds'].dt.weekday\n",
    "df1['hour'] = df1['ds'].dt.hour.map(periodos_mapper)\n",
    "df1['year'] = df1['ds'].dt.year\n",
    "\n",
    "df1_hour = df1.groupby(['weekday','hour'])['y'].sum().reset_index()\n",
    "df1_day = df1.groupby(['weekday'])['y'].sum().reset_index()\n",
    "df1 = df1_hour.merge(df1_day, on='weekday', how='left', suffixes=(['_hour', '_day']))\n",
    "df1['y'] = df1['y_hour']/df1['y_day']\n",
    "df1.drop(['y_hour','y_day'], axis=1, inplace=True)\n",
    "df2 = df1.pivot_table(columns=['hour'], index=['weekday'], values='y').reset_index().set_index('weekday')\n",
    "df2.index = df2.index.to_series().map(weekday_mapper)\n",
    "df2.columns.name = None\n",
    "df2.style.format('{:.2%}')"
   ]
  },
  {
   "cell_type": "code",
   "execution_count": 4,
   "metadata": {},
   "outputs": [
    {
     "data": {
      "text/plain": [
       "Text(0.5, 1.0, 'Saida UI')"
      ]
     },
     "execution_count": 4,
     "metadata": {},
     "output_type": "execute_result"
    },
    {
     "data": {
      "image/png": "[encoded data removed]",
      "text/plain": [
       "<Figure size 432x288 with 1 Axes>"
      ]
     },
     "metadata": {},
     "output_type": "display_data"
    }
   ],
   "source": [
    "import seaborn as sns\n",
    "sns.heatmap(df2, annot=True, cmap='GnBu', fmt='.0%', cbar=False)\n",
    "plt.title(entradaSaida.capitalize() + ' ' + uiUti.upper())"
   ]
  },
  {
   "cell_type": "code",
   "execution_count": 5,
   "metadata": {},
   "outputs": [
    {
     "data": {
      "text/plain": [
       "'{\"0\":{\"00-06\":0.0188802615,\"06-12\":0.2183898651,\"12-18\":0.5215365754,\"18-24\":0.2411932979},\"1\":{\"00-06\":0.028487902,\"06-12\":0.2502954531,\"12-18\":0.4905766001,\"18-24\":0.2306400448},\"2\":{\"00-06\":0.0299983334,\"06-12\":0.2857619021,\"12-18\":0.484250875,\"18-24\":0.1999888895},\"3\":{\"00-06\":0.0303687636,\"06-12\":0.2843275488,\"12-18\":0.4877440347,\"18-24\":0.1975596529},\"4\":{\"00-06\":0.0259590024,\"06-12\":0.2672250243,\"12-18\":0.4962287724,\"18-24\":0.210587201},\"5\":{\"00-06\":0.0344923815,\"06-12\":0.3083105431,\"12-18\":0.506892895,\"18-24\":0.1503041804},\"6\":{\"00-06\":0.0287702622,\"06-12\":0.3228379869,\"12-18\":0.5417975049,\"18-24\":0.1065942459}}'"
      ]
     },
     "execution_count": 5,
     "metadata": {},
     "output_type": "execute_result"
    }
   ],
   "source": [
    "df3 = df1.pivot_table(columns=['hour'], index=['weekday'], values='y').reset_index().set_index('weekday').T\n",
    "df3.to_json()\n"
   ]
  },
  {
   "cell_type": "code",
   "execution_count": 6,
   "metadata": {},
   "outputs": [],
   "source": [
    "import json\n",
    "with open(interim_data_dir+f'/weekday_info_{entradaSaida}_{uiUti}.json', 'w') as f:\n",
    "    f.write(df3.to_json())"
   ]
  },
  {
   "cell_type": "code",
   "execution_count": 7,
   "metadata": {},
   "outputs": [
    {
     "name": "stdout",
     "output_type": "stream",
     "text": [
      "/weekday_info_saida_ui.json\n"
     ]
    }
   ],
   "source": [
    "print(f'/weekday_info_{entradaSaida}_{uiUti}.json')"
   ]
  },
  {
   "cell_type": "code",
   "execution_count": null,
   "metadata": {},
   "outputs": [],
   "source": []
  }
 ],
 "metadata": {
  "interpreter": {
   "hash": "395074aa7aef05509c295c6ea0f7e6dd564ccb72a5587dd70dbcaffedb06b2e0"
  },
  "kernelspec": {
   "display_name": "Python 3.7.11 ('DartsTimeSeries')",
   "language": "python",
   "name": "python3"
  },
  "language_info": {
   "codemirror_mode": {
    "name": "ipython",
    "version": 3
   },
   "file_extension": ".py",
   "mimetype": "text/x-python",
   "name": "python",
   "nbconvert_exporter": "python",
   "pygments_lexer": "ipython3",
   "version": "3.7.11"
  },
  "orig_nbformat": 4
 },
 "nbformat": 4,
 "nbformat_minor": 2
}
